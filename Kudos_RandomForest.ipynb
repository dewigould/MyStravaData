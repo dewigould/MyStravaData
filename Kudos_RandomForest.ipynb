{
 "cells": [
  {
   "cell_type": "code",
   "execution_count": 78,
   "metadata": {
    "collapsed": true
   },
   "outputs": [],
   "source": [
    "import pandas as pd\n",
    "from datetime import datetime\n",
    "import matplotlib.pyplot as plt\n",
    "import seaborn as sns\n",
    "\n",
    "from sklearn.model_selection import train_test_split\n",
    "from sklearn.ensemble import RandomForestClassifier\n",
    "from sklearn.metrics import accuracy_score, classification_report"
   ]
  },
  {
   "cell_type": "code",
   "execution_count": 79,
   "metadata": {
    "collapsed": true
   },
   "outputs": [],
   "source": [
    "df = pd.read_pickle(\"./mydata_1000.pkl\")  "
   ]
  },
  {
   "cell_type": "markdown",
   "metadata": {},
   "source": [
    "## Task\n",
    "- Want to build a model to predict how many kudos I will get\n",
    "- As a starter, I will build a **binary classifier** to predict whether or not the activity will get more than 5 likes\n",
    "- For a v1, I will build a **random forest** classifier"
   ]
  },
  {
   "cell_type": "code",
   "execution_count": 80,
   "metadata": {},
   "outputs": [
    {
     "data": {
      "text/plain": [
       "<Axes: xlabel='kudos_count', ylabel='Count'>"
      ]
     },
     "execution_count": 80,
     "metadata": {},
     "output_type": "execute_result"
    },
    {
     "data": {
      "image/png": "[encoded data removed]",
      "text/plain": [
       "<Figure size 640x480 with 1 Axes>"
      ]
     },
     "metadata": {},
     "output_type": "display_data"
    }
   ],
   "source": [
    "sns.histplot(\n",
    "    data =df,\n",
    "    x='kudos_count')"
   ]
  },
  {
   "cell_type": "code",
   "execution_count": 81,
   "metadata": {},
   "outputs": [
    {
     "data": {
      "text/plain": [
       "kudos_gt5\n",
       "1    551\n",
       "0    449\n",
       "Name: count, dtype: int64"
      ]
     },
     "execution_count": 81,
     "metadata": {},
     "output_type": "execute_result"
    }
   ],
   "source": [
    "def more_than_five(kudos):\n",
    "    if kudos>5:\n",
    "        return 1\n",
    "    else:\n",
    "        return 0\n",
    "\n",
    "df['kudos_gt5'] = df['kudos_count'].apply(more_than_five)\n",
    "df['kudos_gt5'].value_counts()"
   ]
  },
  {
   "cell_type": "code",
   "execution_count": null,
   "metadata": {
    "collapsed": true
   },
   "outputs": [],
   "source": []
  },
  {
   "cell_type": "markdown",
   "metadata": {},
   "source": [
    "## Feature Engineering\n",
    "- First we identify what features we are interested in\n",
    "- Need to re-format some, deal with missing values, normalize, OneHotEncode, etc."
   ]
  },
  {
   "cell_type": "code",
   "execution_count": 82,
   "metadata": {},
   "outputs": [
    {
     "data": {
      "text/html": [
       "<div>\n",
       "<style scoped>\n",
       "    .dataframe tbody tr th:only-of-type {\n",
       "        vertical-align: middle;\n",
       "    }\n",
       "\n",
       "    .dataframe tbody tr th {\n",
       "        vertical-align: top;\n",
       "    }\n",
       "\n",
       "    .dataframe thead th {\n",
       "        text-align: right;\n",
       "    }\n",
       "</style>\n",
       "<table border=\"1\" class=\"dataframe\">\n",
       "  <thead>\n",
       "    <tr style=\"text-align: right;\">\n",
       "      <th></th>\n",
       "      <th>kudos_gt5</th>\n",
       "      <th>distance</th>\n",
       "      <th>moving_time</th>\n",
       "      <th>total_elevation_gain</th>\n",
       "      <th>sport_type</th>\n",
       "      <th>max_speed</th>\n",
       "    </tr>\n",
       "  </thead>\n",
       "  <tbody>\n",
       "    <tr>\n",
       "      <th>0</th>\n",
       "      <td>1</td>\n",
       "      <td>11161.0</td>\n",
       "      <td>4492</td>\n",
       "      <td>147.2</td>\n",
       "      <td>TrailRun</td>\n",
       "      <td>5.500</td>\n",
       "    </tr>\n",
       "    <tr>\n",
       "      <th>1</th>\n",
       "      <td>1</td>\n",
       "      <td>16474.3</td>\n",
       "      <td>2157</td>\n",
       "      <td>116.0</td>\n",
       "      <td>Ride</td>\n",
       "      <td>13.062</td>\n",
       "    </tr>\n",
       "    <tr>\n",
       "      <th>2</th>\n",
       "      <td>1</td>\n",
       "      <td>11661.0</td>\n",
       "      <td>7937</td>\n",
       "      <td>630.2</td>\n",
       "      <td>TrailRun</td>\n",
       "      <td>4.970</td>\n",
       "    </tr>\n",
       "    <tr>\n",
       "      <th>3</th>\n",
       "      <td>1</td>\n",
       "      <td>26759.6</td>\n",
       "      <td>17292</td>\n",
       "      <td>852.7</td>\n",
       "      <td>TrailRun</td>\n",
       "      <td>4.444</td>\n",
       "    </tr>\n",
       "    <tr>\n",
       "      <th>4</th>\n",
       "      <td>1</td>\n",
       "      <td>9387.4</td>\n",
       "      <td>7042</td>\n",
       "      <td>133.9</td>\n",
       "      <td>Hike</td>\n",
       "      <td>1.775</td>\n",
       "    </tr>\n",
       "    <tr>\n",
       "      <th>...</th>\n",
       "      <td>...</td>\n",
       "      <td>...</td>\n",
       "      <td>...</td>\n",
       "      <td>...</td>\n",
       "      <td>...</td>\n",
       "      <td>...</td>\n",
       "    </tr>\n",
       "    <tr>\n",
       "      <th>195</th>\n",
       "      <td>1</td>\n",
       "      <td>6774.5</td>\n",
       "      <td>2042</td>\n",
       "      <td>93.2</td>\n",
       "      <td>Run</td>\n",
       "      <td>5.600</td>\n",
       "    </tr>\n",
       "    <tr>\n",
       "      <th>196</th>\n",
       "      <td>0</td>\n",
       "      <td>1353.1</td>\n",
       "      <td>490</td>\n",
       "      <td>3.0</td>\n",
       "      <td>Run</td>\n",
       "      <td>3.300</td>\n",
       "    </tr>\n",
       "    <tr>\n",
       "      <th>197</th>\n",
       "      <td>0</td>\n",
       "      <td>886.5</td>\n",
       "      <td>302</td>\n",
       "      <td>3.3</td>\n",
       "      <td>Run</td>\n",
       "      <td>3.800</td>\n",
       "    </tr>\n",
       "    <tr>\n",
       "      <th>198</th>\n",
       "      <td>1</td>\n",
       "      <td>9946.5</td>\n",
       "      <td>2839</td>\n",
       "      <td>113.3</td>\n",
       "      <td>Run</td>\n",
       "      <td>5.100</td>\n",
       "    </tr>\n",
       "    <tr>\n",
       "      <th>199</th>\n",
       "      <td>0</td>\n",
       "      <td>1322.6</td>\n",
       "      <td>435</td>\n",
       "      <td>3.0</td>\n",
       "      <td>Run</td>\n",
       "      <td>3.400</td>\n",
       "    </tr>\n",
       "  </tbody>\n",
       "</table>\n",
       "<p>1000 rows × 6 columns</p>\n",
       "</div>"
      ],
      "text/plain": [
       "     kudos_gt5  distance  moving_time  total_elevation_gain sport_type  \\\n",
       "0            1   11161.0         4492                 147.2   TrailRun   \n",
       "1            1   16474.3         2157                 116.0       Ride   \n",
       "2            1   11661.0         7937                 630.2   TrailRun   \n",
       "3            1   26759.6        17292                 852.7   TrailRun   \n",
       "4            1    9387.4         7042                 133.9       Hike   \n",
       "..         ...       ...          ...                   ...        ...   \n",
       "195          1    6774.5         2042                  93.2        Run   \n",
       "196          0    1353.1          490                   3.0        Run   \n",
       "197          0     886.5          302                   3.3        Run   \n",
       "198          1    9946.5         2839                 113.3        Run   \n",
       "199          0    1322.6          435                   3.0        Run   \n",
       "\n",
       "     max_speed  \n",
       "0        5.500  \n",
       "1       13.062  \n",
       "2        4.970  \n",
       "3        4.444  \n",
       "4        1.775  \n",
       "..         ...  \n",
       "195      5.600  \n",
       "196      3.300  \n",
       "197      3.800  \n",
       "198      5.100  \n",
       "199      3.400  \n",
       "\n",
       "[1000 rows x 6 columns]"
      ]
     },
     "execution_count": 82,
     "metadata": {},
     "output_type": "execute_result"
    }
   ],
   "source": [
    "df = df[['kudos_gt5','distance','moving_time','total_elevation_gain','sport_type','max_speed']]\n",
    "df"
   ]
  },
  {
   "cell_type": "markdown",
   "metadata": {},
   "source": [
    "### One Hot Encoding the sport_type column"
   ]
  },
  {
   "cell_type": "code",
   "execution_count": 83,
   "metadata": {},
   "outputs": [
    {
     "data": {
      "text/plain": [
       "sport_type\n",
       "Run               295\n",
       "Rowing            257\n",
       "Ride              235\n",
       "WeightTraining     90\n",
       "Hike               60\n",
       "Swim               36\n",
       "Workout            15\n",
       "TrailRun           10\n",
       "Walk                2\n",
       "Name: count, dtype: int64"
      ]
     },
     "execution_count": 83,
     "metadata": {},
     "output_type": "execute_result"
    }
   ],
   "source": [
    "df['sport_type'].value_counts()"
   ]
  },
  {
   "cell_type": "code",
   "execution_count": 84,
   "metadata": {},
   "outputs": [
    {
     "data": {
      "text/html": [
       "<div>\n",
       "<style scoped>\n",
       "    .dataframe tbody tr th:only-of-type {\n",
       "        vertical-align: middle;\n",
       "    }\n",
       "\n",
       "    .dataframe tbody tr th {\n",
       "        vertical-align: top;\n",
       "    }\n",
       "\n",
       "    .dataframe thead th {\n",
       "        text-align: right;\n",
       "    }\n",
       "</style>\n",
       "<table border=\"1\" class=\"dataframe\">\n",
       "  <thead>\n",
       "    <tr style=\"text-align: right;\">\n",
       "      <th></th>\n",
       "      <th>kudos_gt5</th>\n",
       "      <th>distance</th>\n",
       "      <th>moving_time</th>\n",
       "      <th>total_elevation_gain</th>\n",
       "      <th>max_speed</th>\n",
       "      <th>sport_Ride</th>\n",
       "      <th>sport_Rowing</th>\n",
       "      <th>sport_Run</th>\n",
       "      <th>sport_Swim</th>\n",
       "      <th>sport_TrailRun</th>\n",
       "      <th>sport_Walk</th>\n",
       "      <th>sport_WeightTraining</th>\n",
       "      <th>sport_Workout</th>\n",
       "    </tr>\n",
       "  </thead>\n",
       "  <tbody>\n",
       "    <tr>\n",
       "      <th>0</th>\n",
       "      <td>1</td>\n",
       "      <td>11161.0</td>\n",
       "      <td>4492</td>\n",
       "      <td>147.2</td>\n",
       "      <td>5.500</td>\n",
       "      <td>False</td>\n",
       "      <td>False</td>\n",
       "      <td>False</td>\n",
       "      <td>False</td>\n",
       "      <td>True</td>\n",
       "      <td>False</td>\n",
       "      <td>False</td>\n",
       "      <td>False</td>\n",
       "    </tr>\n",
       "    <tr>\n",
       "      <th>1</th>\n",
       "      <td>1</td>\n",
       "      <td>16474.3</td>\n",
       "      <td>2157</td>\n",
       "      <td>116.0</td>\n",
       "      <td>13.062</td>\n",
       "      <td>True</td>\n",
       "      <td>False</td>\n",
       "      <td>False</td>\n",
       "      <td>False</td>\n",
       "      <td>False</td>\n",
       "      <td>False</td>\n",
       "      <td>False</td>\n",
       "      <td>False</td>\n",
       "    </tr>\n",
       "    <tr>\n",
       "      <th>2</th>\n",
       "      <td>1</td>\n",
       "      <td>11661.0</td>\n",
       "      <td>7937</td>\n",
       "      <td>630.2</td>\n",
       "      <td>4.970</td>\n",
       "      <td>False</td>\n",
       "      <td>False</td>\n",
       "      <td>False</td>\n",
       "      <td>False</td>\n",
       "      <td>True</td>\n",
       "      <td>False</td>\n",
       "      <td>False</td>\n",
       "      <td>False</td>\n",
       "    </tr>\n",
       "    <tr>\n",
       "      <th>3</th>\n",
       "      <td>1</td>\n",
       "      <td>26759.6</td>\n",
       "      <td>17292</td>\n",
       "      <td>852.7</td>\n",
       "      <td>4.444</td>\n",
       "      <td>False</td>\n",
       "      <td>False</td>\n",
       "      <td>False</td>\n",
       "      <td>False</td>\n",
       "      <td>True</td>\n",
       "      <td>False</td>\n",
       "      <td>False</td>\n",
       "      <td>False</td>\n",
       "    </tr>\n",
       "    <tr>\n",
       "      <th>4</th>\n",
       "      <td>1</td>\n",
       "      <td>9387.4</td>\n",
       "      <td>7042</td>\n",
       "      <td>133.9</td>\n",
       "      <td>1.775</td>\n",
       "      <td>False</td>\n",
       "      <td>False</td>\n",
       "      <td>False</td>\n",
       "      <td>False</td>\n",
       "      <td>False</td>\n",
       "      <td>False</td>\n",
       "      <td>False</td>\n",
       "      <td>False</td>\n",
       "    </tr>\n",
       "    <tr>\n",
       "      <th>...</th>\n",
       "      <td>...</td>\n",
       "      <td>...</td>\n",
       "      <td>...</td>\n",
       "      <td>...</td>\n",
       "      <td>...</td>\n",
       "      <td>...</td>\n",
       "      <td>...</td>\n",
       "      <td>...</td>\n",
       "      <td>...</td>\n",
       "      <td>...</td>\n",
       "      <td>...</td>\n",
       "      <td>...</td>\n",
       "      <td>...</td>\n",
       "    </tr>\n",
       "    <tr>\n",
       "      <th>195</th>\n",
       "      <td>1</td>\n",
       "      <td>6774.5</td>\n",
       "      <td>2042</td>\n",
       "      <td>93.2</td>\n",
       "      <td>5.600</td>\n",
       "      <td>False</td>\n",
       "      <td>False</td>\n",
       "      <td>True</td>\n",
       "      <td>False</td>\n",
       "      <td>False</td>\n",
       "      <td>False</td>\n",
       "      <td>False</td>\n",
       "      <td>False</td>\n",
       "    </tr>\n",
       "    <tr>\n",
       "      <th>196</th>\n",
       "      <td>0</td>\n",
       "      <td>1353.1</td>\n",
       "      <td>490</td>\n",
       "      <td>3.0</td>\n",
       "      <td>3.300</td>\n",
       "      <td>False</td>\n",
       "      <td>False</td>\n",
       "      <td>True</td>\n",
       "      <td>False</td>\n",
       "      <td>False</td>\n",
       "      <td>False</td>\n",
       "      <td>False</td>\n",
       "      <td>False</td>\n",
       "    </tr>\n",
       "    <tr>\n",
       "      <th>197</th>\n",
       "      <td>0</td>\n",
       "      <td>886.5</td>\n",
       "      <td>302</td>\n",
       "      <td>3.3</td>\n",
       "      <td>3.800</td>\n",
       "      <td>False</td>\n",
       "      <td>False</td>\n",
       "      <td>True</td>\n",
       "      <td>False</td>\n",
       "      <td>False</td>\n",
       "      <td>False</td>\n",
       "      <td>False</td>\n",
       "      <td>False</td>\n",
       "    </tr>\n",
       "    <tr>\n",
       "      <th>198</th>\n",
       "      <td>1</td>\n",
       "      <td>9946.5</td>\n",
       "      <td>2839</td>\n",
       "      <td>113.3</td>\n",
       "      <td>5.100</td>\n",
       "      <td>False</td>\n",
       "      <td>False</td>\n",
       "      <td>True</td>\n",
       "      <td>False</td>\n",
       "      <td>False</td>\n",
       "      <td>False</td>\n",
       "      <td>False</td>\n",
       "      <td>False</td>\n",
       "    </tr>\n",
       "    <tr>\n",
       "      <th>199</th>\n",
       "      <td>0</td>\n",
       "      <td>1322.6</td>\n",
       "      <td>435</td>\n",
       "      <td>3.0</td>\n",
       "      <td>3.400</td>\n",
       "      <td>False</td>\n",
       "      <td>False</td>\n",
       "      <td>True</td>\n",
       "      <td>False</td>\n",
       "      <td>False</td>\n",
       "      <td>False</td>\n",
       "      <td>False</td>\n",
       "      <td>False</td>\n",
       "    </tr>\n",
       "  </tbody>\n",
       "</table>\n",
       "<p>1000 rows × 13 columns</p>\n",
       "</div>"
      ],
      "text/plain": [
       "     kudos_gt5  distance  moving_time  total_elevation_gain  max_speed  \\\n",
       "0            1   11161.0         4492                 147.2      5.500   \n",
       "1            1   16474.3         2157                 116.0     13.062   \n",
       "2            1   11661.0         7937                 630.2      4.970   \n",
       "3            1   26759.6        17292                 852.7      4.444   \n",
       "4            1    9387.4         7042                 133.9      1.775   \n",
       "..         ...       ...          ...                   ...        ...   \n",
       "195          1    6774.5         2042                  93.2      5.600   \n",
       "196          0    1353.1          490                   3.0      3.300   \n",
       "197          0     886.5          302                   3.3      3.800   \n",
       "198          1    9946.5         2839                 113.3      5.100   \n",
       "199          0    1322.6          435                   3.0      3.400   \n",
       "\n",
       "     sport_Ride  sport_Rowing  sport_Run  sport_Swim  sport_TrailRun  \\\n",
       "0         False         False      False       False            True   \n",
       "1          True         False      False       False           False   \n",
       "2         False         False      False       False            True   \n",
       "3         False         False      False       False            True   \n",
       "4         False         False      False       False           False   \n",
       "..          ...           ...        ...         ...             ...   \n",
       "195       False         False       True       False           False   \n",
       "196       False         False       True       False           False   \n",
       "197       False         False       True       False           False   \n",
       "198       False         False       True       False           False   \n",
       "199       False         False       True       False           False   \n",
       "\n",
       "     sport_Walk  sport_WeightTraining  sport_Workout  \n",
       "0         False                 False          False  \n",
       "1         False                 False          False  \n",
       "2         False                 False          False  \n",
       "3         False                 False          False  \n",
       "4         False                 False          False  \n",
       "..          ...                   ...            ...  \n",
       "195       False                 False          False  \n",
       "196       False                 False          False  \n",
       "197       False                 False          False  \n",
       "198       False                 False          False  \n",
       "199       False                 False          False  \n",
       "\n",
       "[1000 rows x 13 columns]"
      ]
     },
     "execution_count": 84,
     "metadata": {},
     "output_type": "execute_result"
    }
   ],
   "source": [
    "df = pd.get_dummies(df, columns=['sport_type'], prefix='sport', drop_first=True)\n",
    "df"
   ]
  },
  {
   "cell_type": "code",
   "execution_count": null,
   "metadata": {
    "collapsed": true
   },
   "outputs": [],
   "source": []
  },
  {
   "cell_type": "markdown",
   "metadata": {},
   "source": [
    "## Train/ Test Split"
   ]
  },
  {
   "cell_type": "code",
   "execution_count": 85,
   "metadata": {
    "collapsed": true
   },
   "outputs": [],
   "source": [
    "X = df.drop('kudos_gt5', axis=1)\n",
    "y = df['kudos_gt5']\n",
    "X_train, X_test, y_train, y_test = train_test_split(X, y, test_size=0.2, random_state=42)"
   ]
  },
  {
   "cell_type": "code",
   "execution_count": null,
   "metadata": {
    "collapsed": true
   },
   "outputs": [],
   "source": []
  },
  {
   "cell_type": "markdown",
   "metadata": {},
   "source": [
    "### Re-scaling numerical columns"
   ]
  },
  {
   "cell_type": "code",
   "execution_count": 86,
   "metadata": {},
   "outputs": [],
   "source": [
    "numerical_cols = ['distance','moving_time','total_elevation_gain','max_speed']\n",
    "for col in numerical_cols:\n",
    "    X_train.loc[:,col] = StandardScaler().fit_transform(X_train[[col]])\n",
    "    X_test.loc[:,col] = StandardScaler().fit_transform(X_test[[col]])"
   ]
  },
  {
   "cell_type": "code",
   "execution_count": 87,
   "metadata": {},
   "outputs": [
    {
     "data": {
      "text/html": [
       "<div>\n",
       "<style scoped>\n",
       "    .dataframe tbody tr th:only-of-type {\n",
       "        vertical-align: middle;\n",
       "    }\n",
       "\n",
       "    .dataframe tbody tr th {\n",
       "        vertical-align: top;\n",
       "    }\n",
       "\n",
       "    .dataframe thead th {\n",
       "        text-align: right;\n",
       "    }\n",
       "</style>\n",
       "<table border=\"1\" class=\"dataframe\">\n",
       "  <thead>\n",
       "    <tr style=\"text-align: right;\">\n",
       "      <th></th>\n",
       "      <th>kudos_gt5</th>\n",
       "      <th>distance</th>\n",
       "      <th>moving_time</th>\n",
       "      <th>total_elevation_gain</th>\n",
       "      <th>max_speed</th>\n",
       "      <th>sport_Ride</th>\n",
       "      <th>sport_Rowing</th>\n",
       "      <th>sport_Run</th>\n",
       "      <th>sport_Swim</th>\n",
       "      <th>sport_TrailRun</th>\n",
       "      <th>sport_Walk</th>\n",
       "      <th>sport_WeightTraining</th>\n",
       "      <th>sport_Workout</th>\n",
       "    </tr>\n",
       "  </thead>\n",
       "  <tbody>\n",
       "    <tr>\n",
       "      <th>29</th>\n",
       "      <td>0</td>\n",
       "      <td>-0.004683</td>\n",
       "      <td>0.322343</td>\n",
       "      <td>-0.382690</td>\n",
       "      <td>-1.020823</td>\n",
       "      <td>False</td>\n",
       "      <td>False</td>\n",
       "      <td>False</td>\n",
       "      <td>False</td>\n",
       "      <td>True</td>\n",
       "      <td>False</td>\n",
       "      <td>False</td>\n",
       "      <td>False</td>\n",
       "    </tr>\n",
       "    <tr>\n",
       "      <th>135</th>\n",
       "      <td>1</td>\n",
       "      <td>-0.310918</td>\n",
       "      <td>-0.289099</td>\n",
       "      <td>-0.382690</td>\n",
       "      <td>-0.298807</td>\n",
       "      <td>False</td>\n",
       "      <td>True</td>\n",
       "      <td>False</td>\n",
       "      <td>False</td>\n",
       "      <td>False</td>\n",
       "      <td>False</td>\n",
       "      <td>False</td>\n",
       "      <td>False</td>\n",
       "    </tr>\n",
       "    <tr>\n",
       "      <th>95</th>\n",
       "      <td>0</td>\n",
       "      <td>0.137360</td>\n",
       "      <td>-0.480839</td>\n",
       "      <td>-0.207587</td>\n",
       "      <td>1.044946</td>\n",
       "      <td>True</td>\n",
       "      <td>False</td>\n",
       "      <td>False</td>\n",
       "      <td>False</td>\n",
       "      <td>False</td>\n",
       "      <td>False</td>\n",
       "      <td>False</td>\n",
       "      <td>False</td>\n",
       "    </tr>\n",
       "    <tr>\n",
       "      <th>157</th>\n",
       "      <td>1</td>\n",
       "      <td>0.023946</td>\n",
       "      <td>0.148138</td>\n",
       "      <td>-0.228641</td>\n",
       "      <td>-0.166838</td>\n",
       "      <td>False</td>\n",
       "      <td>False</td>\n",
       "      <td>True</td>\n",
       "      <td>False</td>\n",
       "      <td>False</td>\n",
       "      <td>False</td>\n",
       "      <td>False</td>\n",
       "      <td>False</td>\n",
       "    </tr>\n",
       "    <tr>\n",
       "      <th>36</th>\n",
       "      <td>1</td>\n",
       "      <td>-0.637940</td>\n",
       "      <td>-0.064587</td>\n",
       "      <td>-0.382690</td>\n",
       "      <td>-1.020823</td>\n",
       "      <td>False</td>\n",
       "      <td>True</td>\n",
       "      <td>False</td>\n",
       "      <td>False</td>\n",
       "      <td>False</td>\n",
       "      <td>False</td>\n",
       "      <td>False</td>\n",
       "      <td>False</td>\n",
       "    </tr>\n",
       "    <tr>\n",
       "      <th>...</th>\n",
       "      <td>...</td>\n",
       "      <td>...</td>\n",
       "      <td>...</td>\n",
       "      <td>...</td>\n",
       "      <td>...</td>\n",
       "      <td>...</td>\n",
       "      <td>...</td>\n",
       "      <td>...</td>\n",
       "      <td>...</td>\n",
       "      <td>...</td>\n",
       "      <td>...</td>\n",
       "      <td>...</td>\n",
       "      <td>...</td>\n",
       "    </tr>\n",
       "    <tr>\n",
       "      <th>106</th>\n",
       "      <td>1</td>\n",
       "      <td>0.140604</td>\n",
       "      <td>-0.468478</td>\n",
       "      <td>-0.186533</td>\n",
       "      <td>1.139409</td>\n",
       "      <td>True</td>\n",
       "      <td>False</td>\n",
       "      <td>False</td>\n",
       "      <td>False</td>\n",
       "      <td>False</td>\n",
       "      <td>False</td>\n",
       "      <td>False</td>\n",
       "      <td>False</td>\n",
       "    </tr>\n",
       "    <tr>\n",
       "      <th>70</th>\n",
       "      <td>1</td>\n",
       "      <td>1.358673</td>\n",
       "      <td>-0.015718</td>\n",
       "      <td>-0.382690</td>\n",
       "      <td>1.265562</td>\n",
       "      <td>True</td>\n",
       "      <td>False</td>\n",
       "      <td>False</td>\n",
       "      <td>False</td>\n",
       "      <td>False</td>\n",
       "      <td>False</td>\n",
       "      <td>False</td>\n",
       "      <td>False</td>\n",
       "    </tr>\n",
       "    <tr>\n",
       "      <th>60</th>\n",
       "      <td>0</td>\n",
       "      <td>-0.637940</td>\n",
       "      <td>0.138364</td>\n",
       "      <td>-0.382690</td>\n",
       "      <td>-1.020823</td>\n",
       "      <td>False</td>\n",
       "      <td>True</td>\n",
       "      <td>False</td>\n",
       "      <td>False</td>\n",
       "      <td>False</td>\n",
       "      <td>False</td>\n",
       "      <td>False</td>\n",
       "      <td>False</td>\n",
       "    </tr>\n",
       "    <tr>\n",
       "      <th>35</th>\n",
       "      <td>1</td>\n",
       "      <td>-0.267364</td>\n",
       "      <td>-0.321007</td>\n",
       "      <td>-0.328650</td>\n",
       "      <td>-0.257090</td>\n",
       "      <td>False</td>\n",
       "      <td>False</td>\n",
       "      <td>True</td>\n",
       "      <td>False</td>\n",
       "      <td>False</td>\n",
       "      <td>False</td>\n",
       "      <td>False</td>\n",
       "      <td>False</td>\n",
       "    </tr>\n",
       "    <tr>\n",
       "      <th>102</th>\n",
       "      <td>1</td>\n",
       "      <td>-0.419003</td>\n",
       "      <td>-0.696151</td>\n",
       "      <td>-0.382690</td>\n",
       "      <td>0.156866</td>\n",
       "      <td>False</td>\n",
       "      <td>True</td>\n",
       "      <td>False</td>\n",
       "      <td>False</td>\n",
       "      <td>False</td>\n",
       "      <td>False</td>\n",
       "      <td>False</td>\n",
       "      <td>False</td>\n",
       "    </tr>\n",
       "  </tbody>\n",
       "</table>\n",
       "<p>800 rows × 13 columns</p>\n",
       "</div>"
      ],
      "text/plain": [
       "     kudos_gt5  distance  moving_time  total_elevation_gain  max_speed  \\\n",
       "29           0 -0.004683     0.322343             -0.382690  -1.020823   \n",
       "135          1 -0.310918    -0.289099             -0.382690  -0.298807   \n",
       "95           0  0.137360    -0.480839             -0.207587   1.044946   \n",
       "157          1  0.023946     0.148138             -0.228641  -0.166838   \n",
       "36           1 -0.637940    -0.064587             -0.382690  -1.020823   \n",
       "..         ...       ...          ...                   ...        ...   \n",
       "106          1  0.140604    -0.468478             -0.186533   1.139409   \n",
       "70           1  1.358673    -0.015718             -0.382690   1.265562   \n",
       "60           0 -0.637940     0.138364             -0.382690  -1.020823   \n",
       "35           1 -0.267364    -0.321007             -0.328650  -0.257090   \n",
       "102          1 -0.419003    -0.696151             -0.382690   0.156866   \n",
       "\n",
       "     sport_Ride  sport_Rowing  sport_Run  sport_Swim  sport_TrailRun  \\\n",
       "29        False         False      False       False            True   \n",
       "135       False          True      False       False           False   \n",
       "95         True         False      False       False           False   \n",
       "157       False         False       True       False           False   \n",
       "36        False          True      False       False           False   \n",
       "..          ...           ...        ...         ...             ...   \n",
       "106        True         False      False       False           False   \n",
       "70         True         False      False       False           False   \n",
       "60        False          True      False       False           False   \n",
       "35        False         False       True       False           False   \n",
       "102       False          True      False       False           False   \n",
       "\n",
       "     sport_Walk  sport_WeightTraining  sport_Workout  \n",
       "29        False                 False          False  \n",
       "135       False                 False          False  \n",
       "95        False                 False          False  \n",
       "157       False                 False          False  \n",
       "36        False                 False          False  \n",
       "..          ...                   ...            ...  \n",
       "106       False                 False          False  \n",
       "70        False                 False          False  \n",
       "60        False                 False          False  \n",
       "35        False                 False          False  \n",
       "102       False                 False          False  \n",
       "\n",
       "[800 rows x 13 columns]"
      ]
     },
     "execution_count": 87,
     "metadata": {},
     "output_type": "execute_result"
    }
   ],
   "source": [
    "X_train"
   ]
  },
  {
   "cell_type": "code",
   "execution_count": null,
   "metadata": {
    "collapsed": true
   },
   "outputs": [],
   "source": []
  },
  {
   "cell_type": "markdown",
   "metadata": {},
   "source": [
    "## Random Forest Model"
   ]
  },
  {
   "cell_type": "code",
   "execution_count": 88,
   "metadata": {},
   "outputs": [],
   "source": [
    "clf = RandomForestClassifier(random_state=42)\n",
    "clf.fit(X_train, y_train)\n",
    "y_pred = clf.predict(X_test)"
   ]
  },
  {
   "cell_type": "code",
   "execution_count": null,
   "metadata": {
    "collapsed": true
   },
   "outputs": [],
   "source": []
  },
  {
   "cell_type": "markdown",
   "metadata": {},
   "source": [
    "## Evaluate Model Performance"
   ]
  },
  {
   "cell_type": "code",
   "execution_count": 89,
   "metadata": {},
   "outputs": [
    {
     "name": "stdout",
     "output_type": "stream",
     "text": [
      "Accuracy: 0.73\n",
      "Classification Report:\n",
      "              precision    recall  f1-score   support\n",
      "\n",
      "           0       0.71      0.67      0.69        90\n",
      "           1       0.74      0.78      0.76       110\n",
      "\n",
      "    accuracy                           0.73       200\n",
      "   macro avg       0.73      0.72      0.73       200\n",
      "weighted avg       0.73      0.73      0.73       200\n",
      "\n"
     ]
    }
   ],
   "source": [
    "accuracy = accuracy_score(y_test, y_pred)\n",
    "print(f'Accuracy: {accuracy:.2f}')\n",
    "\n",
    "print('Classification Report:')\n",
    "print(classification_report(y_test, y_pred))\n"
   ]
  },
  {
   "cell_type": "code",
   "execution_count": 90,
   "metadata": {
    "collapsed": true
   },
   "outputs": [],
   "source": [
    "from sklearn.metrics import roc_curve, auc\n",
    "import matplotlib.pyplot as plt"
   ]
  },
  {
   "cell_type": "code",
   "execution_count": 91,
   "metadata": {},
   "outputs": [
    {
     "data": {
      "image/png": "[encoded data removed]",
      "text/plain": [
       "<Figure size 800x600 with 1 Axes>"
      ]
     },
     "metadata": {},
     "output_type": "display_data"
    }
   ],
   "source": [
    "fpr, tpr, thresholds = roc_curve(y_test, clf.predict_proba(X_test)[:, 1])\n",
    "roc_auc = auc(fpr, tpr)\n",
    "\n",
    "# Plot ROC curve\n",
    "plt.figure(figsize=(8, 6))\n",
    "plt.plot(fpr, tpr, color='darkorange', lw=2, label=f'AUC = {roc_auc:.2f}')\n",
    "plt.plot([0, 1], [0, 1], color='navy', lw=2, linestyle='--')\n",
    "plt.xlim([0.0, 1.0])\n",
    "plt.ylim([0.0, 1.05])\n",
    "plt.xlabel('False Positive Rate')\n",
    "plt.ylabel('True Positive Rate')\n",
    "plt.title('Receiver Operating Characteristic (ROC) Curve')\n",
    "plt.legend(loc='lower right')\n",
    "plt.show()"
   ]
  },
  {
   "cell_type": "code",
   "execution_count": null,
   "metadata": {
    "collapsed": true
   },
   "outputs": [],
   "source": []
  },
  {
   "cell_type": "markdown",
   "metadata": {},
   "source": [
    "## Try Fiddling With Model Hyperparameters"
   ]
  },
  {
   "cell_type": "code",
   "execution_count": 92,
   "metadata": {},
   "outputs": [],
   "source": [
    "#First consider the number of trees, default is 100\n",
    "trees = [20,50,100,200,500,1000]\n",
    "accuracy = []\n",
    "for tree_num in trees:\n",
    "    clf = RandomForestClassifier(random_state=42,n_estimators=tree_num)\n",
    "    clf.fit(X_train, y_train)\n",
    "    y_pred = clf.predict(X_test)\n",
    "    accuracy.append(accuracy_score(y_test, y_pred))"
   ]
  },
  {
   "cell_type": "code",
   "execution_count": 93,
   "metadata": {},
   "outputs": [
    {
     "data": {
      "text/plain": [
       "<Axes: >"
      ]
     },
     "execution_count": 93,
     "metadata": {},
     "output_type": "execute_result"
    },
    {
     "data": {
      "image/png": "[encoded data removed]",
      "text/plain": [
       "<Figure size 640x480 with 1 Axes>"
      ]
     },
     "metadata": {},
     "output_type": "display_data"
    }
   ],
   "source": [
    "sns.scatterplot(x=trees,y=accuracy)"
   ]
  },
  {
   "cell_type": "code",
   "execution_count": null,
   "metadata": {
    "collapsed": true
   },
   "outputs": [],
   "source": []
  },
  {
   "cell_type": "code",
   "execution_count": null,
   "metadata": {
    "collapsed": true
   },
   "outputs": [],
   "source": []
  },
  {
   "cell_type": "code",
   "execution_count": null,
   "metadata": {
    "collapsed": true
   },
   "outputs": [],
   "source": []
  }
 ],
 "metadata": {
  "kernelspec": {
   "display_name": "Python (jennyenv)",
   "language": "python",
   "name": "jennyenv"
  },
  "language_info": {
   "codemirror_mode": {
    "name": "ipython",
    "version": 3
   },
   "file_extension": ".py",
   "mimetype": "text/x-python",
   "name": "python",
   "nbconvert_exporter": "python",
   "pygments_lexer": "ipython3",
   "version": "3.8.18"
  }
 },
 "nbformat": 4,
 "nbformat_minor": 2
}
